{
 "cells": [
  {
   "cell_type": "code",
   "execution_count": 1,
   "metadata": {},
   "outputs": [],
   "source": [
    "import requests\n",
    "\n",
    "# SETTINGS \n",
    "endpoint_url = \"https://api.spotify.com/v1/recommendations?\"\n",
    "token = \"591aa75444054092bc4099846a8d9daf\"\n",
    "user_id = '1266021106'\n",
    "\n",
    "# OUR FILTERS\n",
    "limit=15\n",
    "market=\"US\"\n",
    "seed_genres= \"indie\"\n",
    "target_danceability= 0.69\n",
    "uris = [] \n",
    "seed_artists = '1Xyo4u8uXC1ZmMpatF05PJ'\n",
    "seed_tracks='3KyKxJ4P3pVCgaZwaq2rUC'\n",
    "\n",
    "# PERFORM THE QUERY\n",
    "query = f'{endpoint_url}limit={limit}&market={market}&seed_genres={seed_genres}&target_danceability={target_danceability}'\n",
    "query += f'&seed_artists={seed_artists}'\n",
    "query += f'&seed_tracks={seed_tracks}'\n",
    "\n"
   ]
  },
  {
   "cell_type": "code",
   "execution_count": null,
   "metadata": {},
   "outputs": [],
   "source": [
    "response = requests.get(query, \n",
    "               headers={\"Content-Type\":\"application/json\", \n",
    "                        \"Authorization\":f\"Bearer {token}\"})\n",
    "json_response = response.json()\n",
    "\n",
    "print('Recommended Songs:')\n",
    "for i,j in enumerate(json_response['tracks']):\n",
    "            uris.append(j['uri'])\n",
    "            print(f\"{i+1}) \\\"{j['name']}\\\" by {j['artists'][0]['name']}\")\n",
    "print(json_response)"
   ]
  },
  {
   "cell_type": "code",
   "execution_count": 5,
   "metadata": {},
   "outputs": [
    {
     "name": "stdout",
     "output_type": "stream",
     "text": [
      "201\n"
     ]
    }
   ],
   "source": [
    "# CREATE A NEW PLAYLIST\n",
    "\n",
    "import requests\n",
    "import json \n",
    "\n",
    "endpoint_url = f\"https://api.spotify.com/v1/users/{user_id}/playlists\"\n",
    "\n",
    "request_body = json.dumps({\n",
    "          \"name\": \"Lighter\",\n",
    "          \"description\": \"poop\",\n",
    "          \"public\": False\n",
    "        })\n",
    "response = requests.post(url = endpoint_url, data = request_body, headers={\"Content-Type\":\"application/json\", \n",
    "                        \"Authorization\":f\"Bearer {token}\"})\n",
    "\n",
    "url = response.json()['external_urls']['spotify']\n",
    "print(response.status_code)"
   ]
  },
  {
   "cell_type": "code",
   "execution_count": null,
   "metadata": {},
   "outputs": [],
   "source": []
  },
  {
   "cell_type": "code",
   "execution_count": 6,
   "metadata": {},
   "outputs": [
    {
     "name": "stdout",
     "output_type": "stream",
     "text": [
      "201\n"
     ]
    }
   ],
   "source": [
    "\n",
    "playlist_id = response.json()['id']\n",
    "\n",
    "endpoint_url = f\"https://api.spotify.com/v1/playlists/{playlist_id}/tracks\"\n",
    "\n",
    "request_body = json.dumps({\n",
    "          \"uris\" : uris\n",
    "        })\n",
    "response = requests.post(url = endpoint_url, data = request_body, headers={\"Content-Type\":\"application/json\", \n",
    "                        \"Authorization\":f\"Bearer {token}\"})\n",
    "\n",
    "print(response.status_code)"
   ]
  },
  {
   "cell_type": "code",
   "execution_count": 7,
   "metadata": {},
   "outputs": [
    {
     "name": "stdout",
     "output_type": "stream",
     "text": [
      "Your playlist is ready at https://open.spotify.com/playlist/4gmkHoUVUWGZbpIbAzo6Ap\n"
     ]
    }
   ],
   "source": [
    "print(f'Your playlist is ready at {url}')"
   ]
  },
  {
   "cell_type": "code",
   "execution_count": null,
   "metadata": {},
   "outputs": [],
   "source": []
  }
 ],
 "metadata": {
  "kernelspec": {
   "display_name": "Python 3",
   "language": "python",
   "name": "python3"
  },
  "language_info": {
   "codemirror_mode": {
    "name": "ipython",
    "version": 3
   },
   "file_extension": ".py",
   "mimetype": "text/x-python",
   "name": "python",
   "nbconvert_exporter": "python",
   "pygments_lexer": "ipython3",
   "version": "3.7.4"
  },
  "vscode": {
   "interpreter": {
    "hash": "aee8b7b246df8f9039afb4144a1f6fd8d2ca17a180786b69acc140d282b71a49"
   }
  }
 },
 "nbformat": 4,
 "nbformat_minor": 4
}
