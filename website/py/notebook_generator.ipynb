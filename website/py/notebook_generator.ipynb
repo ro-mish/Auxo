{
 "cells": [
  {
   "cell_type": "code",
   "execution_count": 87,
   "metadata": {},
   "outputs": [],
   "source": [
    "import requests\n",
    "import json\n",
    "# SETTINGS \n",
    "endpoint_url = \"https://api.spotify.com/v1/recommendations?\"\n",
    "\n",
    "#get token from spotify recommender api\n",
    "# token = \n",
    "user_id = \"US\"\n",
    "\n",
    "# OUR FILTERS\n",
    "limit=15\n",
    "market=\"US\"\n",
    "seed_genres= \"Instrumental\"\n",
    "target_danceability= 0.2\n",
    "uris = [] \n",
    "seed_artists = '7B0BAZDsfvl8duBfVjlSyJ'\n",
    "seed_tracks='6mopqC8V8s13UTGT8DU5UR'\n",
    "\n",
    "# PERFORM THE QUERY\n",
    "query = f'{endpoint_url}limit={limit}&market={market}&seed_genres={seed_genres}&target_danceability={target_danceability}'\n",
    "query += f'&seed_artists={seed_artists}'\n",
    "query += f'&seed_tracks={seed_tracks}'"
   ]
  },
  {
   "cell_type": "code",
   "execution_count": 97,
   "metadata": {},
   "outputs": [
    {
     "name": "stdout",
     "output_type": "stream",
     "text": [
      "Recommended Songs:\n",
      " 1 ) Stelle Scure by Enrico Parente\n",
      " 2 ) Tout Francais by Etienne Balestre\n",
      " 3 ) We Never Know by George Eardley-Wilmot\n",
      " 4 ) Decay by Robin Bennich\n",
      " 5 ) Eterno viaggiare by Emiliano Blangero\n",
      " 6 ) Between Two Winds by Luis Berra\n",
      " 7 ) Wonder by Arelius\n",
      " 8 ) Blooming by Wilson Trouvé\n",
      " 9 ) Meet me by Denise Billingsley\n",
      " 10 ) Au Fond D'Amour by Patrick Hamilton\n",
      " 11 ) The Snow is Melting by Ben Crosland\n",
      " 12 ) Let The Night Sing by Luis Berra\n",
      " 13 ) Rise by Arelius\n",
      " 14 ) Waltz For Tomorrow by Milo Edale\n",
      " 15 ) Sleepless by Domenik Kalinsky\n"
     ]
    }
   ],
   "source": [
    "response = requests.get(query, \n",
    "               headers={\"Content-Type\":\"application/json\", \n",
    "                        \"Authorization\":f\"Bearer {token}\"})\n",
    "json_response = response.json()\n",
    "\n",
    "print('Recommended Songs:')\n",
    "for i,j in enumerate(json_response['tracks']):\n",
    "            uris.append(j['uri'])\n",
    "            print(f\" {i+1} ) { j['name']} by {j['artists'][0]['name']}\")"
   ]
  },
  {
   "cell_type": "code",
   "execution_count": 89,
   "metadata": {},
   "outputs": [
    {
     "name": "stdout",
     "output_type": "stream",
     "text": [
      "201\n"
     ]
    }
   ],
   "source": [
    "endpoint_url = f\"https://api.spotify.com/v1/users/{user_id}/playlists\"\n",
    "\n",
    "request_body = json.dumps({\n",
    "          \"name\": \"songs pt 2\",\n",
    "          \"description\": \"Hello from the bot\",\n",
    "          \"public\": False\n",
    "        })\n",
    "response = requests.post(url = endpoint_url, data = request_body, headers={\"Content-Type\":\"application/json\", \n",
    "                        \"Authorization\":f\"Bearer {token}\"})\n",
    "\n",
    "url = response.json()['external_urls']['spotify']\n",
    "print(response.status_code)"
   ]
  },
  {
   "cell_type": "code",
   "execution_count": 90,
   "metadata": {},
   "outputs": [
    {
     "data": {
      "text/plain": [
       "'1266021106'"
      ]
     },
     "execution_count": 90,
     "metadata": {},
     "output_type": "execute_result"
    }
   ],
   "source": [
    "user_id"
   ]
  },
  {
   "cell_type": "code",
   "execution_count": 91,
   "metadata": {},
   "outputs": [
    {
     "data": {
      "text/plain": [
       "'https://open.spotify.com/playlist/25ddMJbuwQsQ7aYBb3QVVu'"
      ]
     },
     "execution_count": 91,
     "metadata": {},
     "output_type": "execute_result"
    }
   ],
   "source": [
    "url"
   ]
  },
  {
   "cell_type": "code",
   "execution_count": 92,
   "metadata": {},
   "outputs": [
    {
     "data": {
      "text/plain": [
       "{'collaborative': False,\n",
       " 'description': 'Hello from the bot',\n",
       " 'external_urls': {'spotify': 'https://open.spotify.com/playlist/25ddMJbuwQsQ7aYBb3QVVu'},\n",
       " 'followers': {'href': None, 'total': 0},\n",
       " 'href': 'https://api.spotify.com/v1/playlists/25ddMJbuwQsQ7aYBb3QVVu',\n",
       " 'id': '25ddMJbuwQsQ7aYBb3QVVu',\n",
       " 'images': [],\n",
       " 'name': 'songs pt 2',\n",
       " 'owner': {'display_name': 'Rohit Mishra',\n",
       "  'external_urls': {'spotify': 'https://open.spotify.com/user/1266021106'},\n",
       "  'href': 'https://api.spotify.com/v1/users/1266021106',\n",
       "  'id': '1266021106',\n",
       "  'type': 'user',\n",
       "  'uri': 'spotify:user:1266021106'},\n",
       " 'primary_color': None,\n",
       " 'public': False,\n",
       " 'snapshot_id': 'MSxkNWY2ZjljNmE0NGM3MGY5ZDM3MzIyNGFhN2Q0NDdiNmRlOTkwNzg2',\n",
       " 'tracks': {'href': 'https://api.spotify.com/v1/playlists/25ddMJbuwQsQ7aYBb3QVVu/tracks',\n",
       "  'items': [],\n",
       "  'limit': 100,\n",
       "  'next': None,\n",
       "  'offset': 0,\n",
       "  'previous': None,\n",
       "  'total': 0},\n",
       " 'type': 'playlist',\n",
       " 'uri': 'spotify:playlist:25ddMJbuwQsQ7aYBb3QVVu'}"
      ]
     },
     "execution_count": 92,
     "metadata": {},
     "output_type": "execute_result"
    }
   ],
   "source": [
    "response.json()"
   ]
  },
  {
   "cell_type": "code",
   "execution_count": 93,
   "metadata": {},
   "outputs": [
    {
     "name": "stdout",
     "output_type": "stream",
     "text": [
      "201\n"
     ]
    }
   ],
   "source": [
    "\n",
    "playlist_id = response.json()['id']\n",
    "\n",
    "endpoint_url = f\"https://api.spotify.com/v1/playlists/{playlist_id}/tracks\"\n",
    "\n",
    "request_body = json.dumps({\n",
    "          \"uris\" : uris\n",
    "        })\n",
    "response = requests.post(url = endpoint_url, data = request_body, headers={\"Content-Type\":\"application/json\", \n",
    "                        \"Authorization\":f\"Bearer {token}\"})\n",
    "\n",
    "print(response.status_code)"
   ]
  },
  {
   "cell_type": "code",
   "execution_count": 94,
   "metadata": {},
   "outputs": [
    {
     "name": "stdout",
     "output_type": "stream",
     "text": [
      "Your playlist is ready at https://open.spotify.com/playlist/25ddMJbuwQsQ7aYBb3QVVu\n"
     ]
    }
   ],
   "source": [
    "print(f'Your playlist is ready at {url}')"
   ]
  },
  {
   "cell_type": "code",
   "execution_count": null,
   "metadata": {},
   "outputs": [],
   "source": []
  }
 ],
 "metadata": {
  "kernelspec": {
   "display_name": "Python 3",
   "language": "python",
   "name": "python3"
  },
  "language_info": {
   "codemirror_mode": {
    "name": "ipython",
    "version": 3
   },
   "file_extension": ".py",
   "mimetype": "text/x-python",
   "name": "python",
   "nbconvert_exporter": "python",
   "pygments_lexer": "ipython3",
   "version": "3.7.0"
  },
  "vscode": {
   "interpreter": {
    "hash": "aee8b7b246df8f9039afb4144a1f6fd8d2ca17a180786b69acc140d282b71a49"
   }
  }
 },
 "nbformat": 4,
 "nbformat_minor": 4
}
